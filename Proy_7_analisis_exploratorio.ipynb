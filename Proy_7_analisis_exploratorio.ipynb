{
 "cells": [
  {
   "cell_type": "markdown",
   "metadata": {},
   "source": [
    "# Proyecto de Sprint 7. Analisis Exploratorio de datos "
   ]
  },
  {
   "cell_type": "markdown",
   "metadata": {},
   "source": [
    "# Tabla de Contenidos\n",
    "1. [Introducción](#first-bullet)\n",
    "2. [Importación de librerias](#encabezado-2)\n",
    "3. [Preprocesamiento de los datos](#encabezado-3)"
   ]
  },
  {
   "cell_type": "markdown",
   "metadata": {},
   "source": [
    "## Introducción <a class=\"anchor\" id=\"first-bullet\"></a>\n",
    "En el presente proyecto se presenta un análisis exploratorio de datos para dos tablas distintas, la primera contiene las siguientes columnas o atributos: \n",
    "- company_name: nombre de la empresa de taxis\n",
    "- trips_amount: el número de viajes de cada compañía de taxis el 15 y 16 de noviembre de 2017.\n",
    "\n",
    "La segunda tabla contiene los siguientes atributos:\n",
    "- dropoff_location_name: barrios de Chicago donde finalizaron los viajes\n",
    "- average_trips: el promedio de viajes que terminaron en cada barrio en noviembre de 2017.\n",
    "\n",
    "Para estos dos datasets ahora necesitas se realizó lo siguiente: \n",
    "- Se importaron los archivos\n",
    "- Se estudiaron los datos que contienen\n",
    "- Se confirmaron que los tipos de datos sean correctos\n",
    "- Se identificar los 10 principales barrios en términos de finalización del recorrido\n",
    "- Se realizaron gráficos: empresas de taxis y número de viajes, los 10 barrios principales por número de finalizaciones\n",
    "- Se obtuvieron conclusiones basadas en cada gráfico y explicar los resultados"
   ]
  },
  {
   "cell_type": "markdown",
   "metadata": {},
   "source": [
    "## Importación de librerias y carga de datasets <a class=\"anchor\" id=\"encabezado-2\"></a>\n",
    "Al inicio del presente proyecto se importaron las librerias que se utilizaran a lo largo del proyecto y además se cargan los datasets que serán utilizados en el proyecto."
   ]
  },
  {
   "cell_type": "code",
   "execution_count": 12,
   "metadata": {},
   "outputs": [],
   "source": [
    "import matplotlib.pyplot as plt\n",
    "import numpy as np\n",
    "import pandas as pd\n",
    "import seaborn as sns\n",
    "from scipy.stats import ttest_ind, levene\n",
    "\n",
    "# Se importan las librerias que se pretenden utilizar"
   ]
  },
  {
   "cell_type": "code",
   "execution_count": 13,
   "metadata": {},
   "outputs": [],
   "source": [
    "company_trips = pd.read_csv('moved_project_sql_result_01.csv')\n",
    "average_travel_location = pd.read_csv('moved_project_sql_result_04.csv')\n",
    "trips_loop_airport = pd.read_csv('moved_project_sql_result_07.csv')\n",
    "\n",
    "# Se cargan los datasets utilizados a lo largo del proyecto"
   ]
  },
  {
   "cell_type": "markdown",
   "metadata": {},
   "source": [
    "## Exploración inicial de datos"
   ]
  },
  {
   "cell_type": "code",
   "execution_count": 14,
   "metadata": {},
   "outputs": [
    {
     "data": {
      "text/html": [
       "<div>\n",
       "<style scoped>\n",
       "    .dataframe tbody tr th:only-of-type {\n",
       "        vertical-align: middle;\n",
       "    }\n",
       "\n",
       "    .dataframe tbody tr th {\n",
       "        vertical-align: top;\n",
       "    }\n",
       "\n",
       "    .dataframe thead th {\n",
       "        text-align: right;\n",
       "    }\n",
       "</style>\n",
       "<table border=\"1\" class=\"dataframe\">\n",
       "  <thead>\n",
       "    <tr style=\"text-align: right;\">\n",
       "      <th></th>\n",
       "      <th>company_name</th>\n",
       "      <th>trips_amount</th>\n",
       "    </tr>\n",
       "  </thead>\n",
       "  <tbody>\n",
       "    <tr>\n",
       "      <th>0</th>\n",
       "      <td>Flash Cab</td>\n",
       "      <td>19558</td>\n",
       "    </tr>\n",
       "    <tr>\n",
       "      <th>1</th>\n",
       "      <td>Taxi Affiliation Services</td>\n",
       "      <td>11422</td>\n",
       "    </tr>\n",
       "    <tr>\n",
       "      <th>2</th>\n",
       "      <td>Medallion Leasin</td>\n",
       "      <td>10367</td>\n",
       "    </tr>\n",
       "    <tr>\n",
       "      <th>3</th>\n",
       "      <td>Yellow Cab</td>\n",
       "      <td>9888</td>\n",
       "    </tr>\n",
       "    <tr>\n",
       "      <th>4</th>\n",
       "      <td>Taxi Affiliation Service Yellow</td>\n",
       "      <td>9299</td>\n",
       "    </tr>\n",
       "  </tbody>\n",
       "</table>\n",
       "</div>"
      ],
      "text/plain": [
       "                      company_name  trips_amount\n",
       "0                        Flash Cab         19558\n",
       "1        Taxi Affiliation Services         11422\n",
       "2                 Medallion Leasin         10367\n",
       "3                       Yellow Cab          9888\n",
       "4  Taxi Affiliation Service Yellow          9299"
      ]
     },
     "execution_count": 14,
     "metadata": {},
     "output_type": "execute_result"
    }
   ],
   "source": [
    "company_trips.head()"
   ]
  },
  {
   "cell_type": "code",
   "execution_count": 15,
   "metadata": {},
   "outputs": [
    {
     "data": {
      "text/html": [
       "<div>\n",
       "<style scoped>\n",
       "    .dataframe tbody tr th:only-of-type {\n",
       "        vertical-align: middle;\n",
       "    }\n",
       "\n",
       "    .dataframe tbody tr th {\n",
       "        vertical-align: top;\n",
       "    }\n",
       "\n",
       "    .dataframe thead th {\n",
       "        text-align: right;\n",
       "    }\n",
       "</style>\n",
       "<table border=\"1\" class=\"dataframe\">\n",
       "  <thead>\n",
       "    <tr style=\"text-align: right;\">\n",
       "      <th></th>\n",
       "      <th>dropoff_location_name</th>\n",
       "      <th>average_trips</th>\n",
       "    </tr>\n",
       "  </thead>\n",
       "  <tbody>\n",
       "    <tr>\n",
       "      <th>0</th>\n",
       "      <td>Loop</td>\n",
       "      <td>10727.466667</td>\n",
       "    </tr>\n",
       "    <tr>\n",
       "      <th>1</th>\n",
       "      <td>River North</td>\n",
       "      <td>9523.666667</td>\n",
       "    </tr>\n",
       "    <tr>\n",
       "      <th>2</th>\n",
       "      <td>Streeterville</td>\n",
       "      <td>6664.666667</td>\n",
       "    </tr>\n",
       "    <tr>\n",
       "      <th>3</th>\n",
       "      <td>West Loop</td>\n",
       "      <td>5163.666667</td>\n",
       "    </tr>\n",
       "    <tr>\n",
       "      <th>4</th>\n",
       "      <td>O'Hare</td>\n",
       "      <td>2546.900000</td>\n",
       "    </tr>\n",
       "  </tbody>\n",
       "</table>\n",
       "</div>"
      ],
      "text/plain": [
       "  dropoff_location_name  average_trips\n",
       "0                  Loop   10727.466667\n",
       "1           River North    9523.666667\n",
       "2         Streeterville    6664.666667\n",
       "3             West Loop    5163.666667\n",
       "4                O'Hare    2546.900000"
      ]
     },
     "execution_count": 15,
     "metadata": {},
     "output_type": "execute_result"
    }
   ],
   "source": [
    "average_travel_location.head()"
   ]
  },
  {
   "cell_type": "code",
   "execution_count": 16,
   "metadata": {},
   "outputs": [
    {
     "data": {
      "text/plain": [
       "company_name    object\n",
       "trips_amount     int64\n",
       "dtype: object"
      ]
     },
     "execution_count": 16,
     "metadata": {},
     "output_type": "execute_result"
    }
   ],
   "source": [
    "company_trips.dtypes"
   ]
  },
  {
   "cell_type": "code",
   "execution_count": 17,
   "metadata": {},
   "outputs": [
    {
     "data": {
      "text/plain": [
       "dropoff_location_name     object\n",
       "average_trips            float64\n",
       "dtype: object"
      ]
     },
     "execution_count": 17,
     "metadata": {},
     "output_type": "execute_result"
    }
   ],
   "source": [
    "average_travel_location.dtypes"
   ]
  },
  {
   "cell_type": "code",
   "execution_count": 18,
   "metadata": {},
   "outputs": [
    {
     "name": "stdout",
     "output_type": "stream",
     "text": [
      "<class 'pandas.core.frame.DataFrame'>\n",
      "RangeIndex: 64 entries, 0 to 63\n",
      "Data columns (total 2 columns):\n",
      " #   Column        Non-Null Count  Dtype \n",
      "---  ------        --------------  ----- \n",
      " 0   company_name  64 non-null     object\n",
      " 1   trips_amount  64 non-null     int64 \n",
      "dtypes: int64(1), object(1)\n",
      "memory usage: 1.1+ KB\n"
     ]
    }
   ],
   "source": [
    "company_trips.info()"
   ]
  },
  {
   "cell_type": "code",
   "execution_count": 19,
   "metadata": {},
   "outputs": [
    {
     "name": "stdout",
     "output_type": "stream",
     "text": [
      "<class 'pandas.core.frame.DataFrame'>\n",
      "RangeIndex: 94 entries, 0 to 93\n",
      "Data columns (total 2 columns):\n",
      " #   Column                 Non-Null Count  Dtype  \n",
      "---  ------                 --------------  -----  \n",
      " 0   dropoff_location_name  94 non-null     object \n",
      " 1   average_trips          94 non-null     float64\n",
      "dtypes: float64(1), object(1)\n",
      "memory usage: 1.6+ KB\n"
     ]
    }
   ],
   "source": [
    "average_travel_location.info()"
   ]
  },
  {
   "cell_type": "code",
   "execution_count": 20,
   "metadata": {},
   "outputs": [
    {
     "data": {
      "text/plain": [
       "0"
      ]
     },
     "execution_count": 20,
     "metadata": {},
     "output_type": "execute_result"
    }
   ],
   "source": [
    "company_trips.duplicated().sum()"
   ]
  },
  {
   "cell_type": "code",
   "execution_count": 21,
   "metadata": {},
   "outputs": [
    {
     "data": {
      "text/plain": [
       "0"
      ]
     },
     "execution_count": 21,
     "metadata": {},
     "output_type": "execute_result"
    }
   ],
   "source": [
    "average_travel_location.duplicated().sum()"
   ]
  },
  {
   "cell_type": "code",
   "execution_count": 22,
   "metadata": {},
   "outputs": [
    {
     "data": {
      "text/plain": [
       "company_name    0\n",
       "trips_amount    0\n",
       "dtype: int64"
      ]
     },
     "execution_count": 22,
     "metadata": {},
     "output_type": "execute_result"
    }
   ],
   "source": [
    "company_trips.isnull().sum()"
   ]
  },
  {
   "cell_type": "code",
   "execution_count": 23,
   "metadata": {},
   "outputs": [
    {
     "data": {
      "text/plain": [
       "dropoff_location_name    0\n",
       "average_trips            0\n",
       "dtype: int64"
      ]
     },
     "execution_count": 23,
     "metadata": {},
     "output_type": "execute_result"
    }
   ],
   "source": [
    "average_travel_location.isnull().sum()"
   ]
  },
  {
   "cell_type": "code",
   "execution_count": 24,
   "metadata": {},
   "outputs": [
    {
     "data": {
      "text/html": [
       "<div>\n",
       "<style scoped>\n",
       "    .dataframe tbody tr th:only-of-type {\n",
       "        vertical-align: middle;\n",
       "    }\n",
       "\n",
       "    .dataframe tbody tr th {\n",
       "        vertical-align: top;\n",
       "    }\n",
       "\n",
       "    .dataframe thead th {\n",
       "        text-align: right;\n",
       "    }\n",
       "</style>\n",
       "<table border=\"1\" class=\"dataframe\">\n",
       "  <thead>\n",
       "    <tr style=\"text-align: right;\">\n",
       "      <th></th>\n",
       "      <th>trips_amount</th>\n",
       "    </tr>\n",
       "  </thead>\n",
       "  <tbody>\n",
       "    <tr>\n",
       "      <th>count</th>\n",
       "      <td>64.000000</td>\n",
       "    </tr>\n",
       "    <tr>\n",
       "      <th>mean</th>\n",
       "      <td>2145.484375</td>\n",
       "    </tr>\n",
       "    <tr>\n",
       "      <th>std</th>\n",
       "      <td>3812.310186</td>\n",
       "    </tr>\n",
       "    <tr>\n",
       "      <th>min</th>\n",
       "      <td>2.000000</td>\n",
       "    </tr>\n",
       "    <tr>\n",
       "      <th>25%</th>\n",
       "      <td>20.750000</td>\n",
       "    </tr>\n",
       "    <tr>\n",
       "      <th>50%</th>\n",
       "      <td>178.500000</td>\n",
       "    </tr>\n",
       "    <tr>\n",
       "      <th>75%</th>\n",
       "      <td>2106.500000</td>\n",
       "    </tr>\n",
       "    <tr>\n",
       "      <th>max</th>\n",
       "      <td>19558.000000</td>\n",
       "    </tr>\n",
       "  </tbody>\n",
       "</table>\n",
       "</div>"
      ],
      "text/plain": [
       "       trips_amount\n",
       "count     64.000000\n",
       "mean    2145.484375\n",
       "std     3812.310186\n",
       "min        2.000000\n",
       "25%       20.750000\n",
       "50%      178.500000\n",
       "75%     2106.500000\n",
       "max    19558.000000"
      ]
     },
     "execution_count": 24,
     "metadata": {},
     "output_type": "execute_result"
    }
   ],
   "source": [
    "company_trips.describe()"
   ]
  },
  {
   "cell_type": "code",
   "execution_count": 25,
   "metadata": {},
   "outputs": [
    {
     "data": {
      "text/html": [
       "<div>\n",
       "<style scoped>\n",
       "    .dataframe tbody tr th:only-of-type {\n",
       "        vertical-align: middle;\n",
       "    }\n",
       "\n",
       "    .dataframe tbody tr th {\n",
       "        vertical-align: top;\n",
       "    }\n",
       "\n",
       "    .dataframe thead th {\n",
       "        text-align: right;\n",
       "    }\n",
       "</style>\n",
       "<table border=\"1\" class=\"dataframe\">\n",
       "  <thead>\n",
       "    <tr style=\"text-align: right;\">\n",
       "      <th></th>\n",
       "      <th>average_trips</th>\n",
       "    </tr>\n",
       "  </thead>\n",
       "  <tbody>\n",
       "    <tr>\n",
       "      <th>count</th>\n",
       "      <td>94.000000</td>\n",
       "    </tr>\n",
       "    <tr>\n",
       "      <th>mean</th>\n",
       "      <td>599.953728</td>\n",
       "    </tr>\n",
       "    <tr>\n",
       "      <th>std</th>\n",
       "      <td>1714.591098</td>\n",
       "    </tr>\n",
       "    <tr>\n",
       "      <th>min</th>\n",
       "      <td>1.800000</td>\n",
       "    </tr>\n",
       "    <tr>\n",
       "      <th>25%</th>\n",
       "      <td>14.266667</td>\n",
       "    </tr>\n",
       "    <tr>\n",
       "      <th>50%</th>\n",
       "      <td>52.016667</td>\n",
       "    </tr>\n",
       "    <tr>\n",
       "      <th>75%</th>\n",
       "      <td>298.858333</td>\n",
       "    </tr>\n",
       "    <tr>\n",
       "      <th>max</th>\n",
       "      <td>10727.466667</td>\n",
       "    </tr>\n",
       "  </tbody>\n",
       "</table>\n",
       "</div>"
      ],
      "text/plain": [
       "       average_trips\n",
       "count      94.000000\n",
       "mean      599.953728\n",
       "std      1714.591098\n",
       "min         1.800000\n",
       "25%        14.266667\n",
       "50%        52.016667\n",
       "75%       298.858333\n",
       "max     10727.466667"
      ]
     },
     "execution_count": 25,
     "metadata": {},
     "output_type": "execute_result"
    }
   ],
   "source": [
    "average_travel_location.describe()"
   ]
  },
  {
   "cell_type": "markdown",
   "metadata": {},
   "source": [
    "Después de lo anterior podemos observar los datos se componen de dos tablas diferentes, la primera se compone de 2 atributos:\n",
    "- company_name: nombre de la empresa de taxis\n",
    "- trips_amount: el número de viajes de cada compañía de taxis el 15 y 16 de noviembre de 2017.\n",
    "\n",
    "La segunda tabla contiene los siguientes atributos:\n",
    "- dropoff_location_name: barrios de Chicago donde finalizaron los viajes\n",
    "- average_trips: el promedio de viajes que terminaron en cada barrio en noviembre de 2017.\n",
    "Es preciso mencionar que en esta exploración encontramos que no hay datos nulos y tampoco duplicados. Además tenemos que el tipo de datos es correcto y que los dataset estan listos para utilizarse."
   ]
  },
  {
   "cell_type": "markdown",
   "metadata": {},
   "source": [
    "## Analisis de datos \n",
    "Se organizan los datos de manera que se logre visualizar su caracteristicas"
   ]
  },
  {
   "cell_type": "code",
   "execution_count": 26,
   "metadata": {},
   "outputs": [
    {
     "name": "stdout",
     "output_type": "stream",
     "text": [
      "  dropoff_location_name  average_trips\n",
      "0                  Loop   10727.466667\n",
      "1           River North    9523.666667\n",
      "2         Streeterville    6664.666667\n",
      "3             West Loop    5163.666667\n",
      "4                O'Hare    2546.900000\n",
      "5             Lake View    2420.966667\n",
      "6            Grant Park    2068.533333\n",
      "7         Museum Campus    1510.000000\n",
      "8            Gold Coast    1364.233333\n",
      "9    Sheffield & DePaul    1259.766667\n"
     ]
    }
   ],
   "source": [
    "top_neighborhoods = average_travel_location.sort_values(by= 'average_trips', ascending=False).head(10)\n",
    "print(top_neighborhoods)"
   ]
  },
  {
   "cell_type": "code",
   "execution_count": 27,
   "metadata": {},
   "outputs": [
    {
     "name": "stdout",
     "output_type": "stream",
     "text": [
      "                        company_name  trips_amount\n",
      "0                          Flash Cab         19558\n",
      "1          Taxi Affiliation Services         11422\n",
      "2                   Medallion Leasin         10367\n",
      "3                         Yellow Cab          9888\n",
      "4    Taxi Affiliation Service Yellow          9299\n",
      "5          Chicago Carriage Cab Corp          9181\n",
      "6                       City Service          8448\n",
      "7                           Sun Taxi          7701\n",
      "8          Star North Management LLC          7455\n",
      "9  Blue Ribbon Taxi Association Inc.          5953\n"
     ]
    }
   ],
   "source": [
    "top_company = company_trips.sort_values(by='trips_amount', ascending=False).head(10)\n",
    "print(top_company)"
   ]
  },
  {
   "cell_type": "code",
   "execution_count": 28,
   "metadata": {},
   "outputs": [
    {
     "data": {
      "image/png": "[encoded data removed]",
      "text/plain": [
       "<Figure size 1000x600 with 1 Axes>"
      ]
     },
     "metadata": {},
     "output_type": "display_data"
    }
   ],
   "source": [
    "plt.figure(figsize=(10, 6))\n",
    "plt.bar(top_company['company_name'], top_company['trips_amount'], color='skyblue')\n",
    "plt.xlabel('Empresa de Taxis',fontsize=7)\n",
    "plt.ylabel('Número de Viajes')\n",
    "plt.title('Número de Viajes por Empresa de Taxis')\n",
    "plt.xticks(rotation=45, fontsize= 7)\n",
    "plt.show()\n",
    "#Se dismuyo el tamaño de letra del gráfico ya que no se alcanzaba a visualizar correctamente"
   ]
  },
  {
   "cell_type": "markdown",
   "metadata": {},
   "source": [
    "Al analizar el gráfico anterior podemos observar que la empresa con mayor cantidad de viajes es la empresa 'Flash Cab', es preciso mencionar la diferencia con la segunda compañia de taxis ya que tiene un 40% menos de viajes. Además, también se puede deducir que a partir de la 'Taxi Affiliation Services' los cambios no son tan significativos ya que disminuyen pero no de una manera drástica "
   ]
  },
  {
   "cell_type": "code",
   "execution_count": 29,
   "metadata": {},
   "outputs": [
    {
     "data": {
      "image/png": "[encoded data removed]",
      "text/plain": [
       "<Figure size 1000x600 with 1 Axes>"
      ]
     },
     "metadata": {},
     "output_type": "display_data"
    }
   ],
   "source": [
    "plt.figure(figsize=(10, 6))\n",
    "plt.bar(top_neighborhoods['dropoff_location_name'], top_neighborhoods['average_trips'], color='salmon')\n",
    "plt.xlabel('Vecindario')\n",
    "plt.ylabel('Número de Finalizaciones')\n",
    "plt.title('Top 10 promedios de viajes finalizados por vecindario')\n",
    "plt.xticks(rotation=45)\n",
    "plt.show()"
   ]
  },
  {
   "cell_type": "markdown",
   "metadata": {},
   "source": [
    "En el grafico anterior nos indica que el vecindario que en promedio tiene más viajes finalizados se encuentra en el vecindario \"Loop\" y con una diferencia no tan amplia se encuentra el vecindario de \"River North\". Además, se observa como cambia drásticamente la gráfica a partir de los promedios de finalizaciones de viajes en \"O'Hare\" que a pesar de ser el quinto vecindario que en promedio tiene más finalizaciones de viajes no supera los un promedio de 3000 viajes. "
   ]
  },
  {
   "cell_type": "markdown",
   "metadata": {},
   "source": [
    "## Prueba de hipótesis\n",
    "A continuación se muestra una tabla que contiene datos sobre viajes desde el Loop hasta el Aeropuerto Internacional O'Hare. \n",
    "Los atributos de la tabla son los siguientes:\n",
    "\n",
    "- start_ts: fecha y hora de la recogida\n",
    "- weather_conditions: condiciones climáticas en el momento en el que comenzó el viaje\n",
    "- duration_seconds: duración del viaje en segundos"
   ]
  },
  {
   "cell_type": "code",
   "execution_count": 30,
   "metadata": {},
   "outputs": [
    {
     "name": "stdout",
     "output_type": "stream",
     "text": [
      "<class 'pandas.core.frame.DataFrame'>\n",
      "RangeIndex: 1068 entries, 0 to 1067\n",
      "Data columns (total 3 columns):\n",
      " #   Column              Non-Null Count  Dtype  \n",
      "---  ------              --------------  -----  \n",
      " 0   start_ts            1068 non-null   object \n",
      " 1   weather_conditions  1068 non-null   object \n",
      " 2   duration_seconds    1068 non-null   float64\n",
      "dtypes: float64(1), object(2)\n",
      "memory usage: 25.2+ KB\n"
     ]
    }
   ],
   "source": [
    "trips_loop_airport.info()"
   ]
  },
  {
   "cell_type": "code",
   "execution_count": 31,
   "metadata": {},
   "outputs": [
    {
     "data": {
      "text/html": [
       "<div>\n",
       "<style scoped>\n",
       "    .dataframe tbody tr th:only-of-type {\n",
       "        vertical-align: middle;\n",
       "    }\n",
       "\n",
       "    .dataframe tbody tr th {\n",
       "        vertical-align: top;\n",
       "    }\n",
       "\n",
       "    .dataframe thead th {\n",
       "        text-align: right;\n",
       "    }\n",
       "</style>\n",
       "<table border=\"1\" class=\"dataframe\">\n",
       "  <thead>\n",
       "    <tr style=\"text-align: right;\">\n",
       "      <th></th>\n",
       "      <th>duration_seconds</th>\n",
       "    </tr>\n",
       "  </thead>\n",
       "  <tbody>\n",
       "    <tr>\n",
       "      <th>count</th>\n",
       "      <td>1068.000000</td>\n",
       "    </tr>\n",
       "    <tr>\n",
       "      <th>mean</th>\n",
       "      <td>2071.731273</td>\n",
       "    </tr>\n",
       "    <tr>\n",
       "      <th>std</th>\n",
       "      <td>769.461125</td>\n",
       "    </tr>\n",
       "    <tr>\n",
       "      <th>min</th>\n",
       "      <td>0.000000</td>\n",
       "    </tr>\n",
       "    <tr>\n",
       "      <th>25%</th>\n",
       "      <td>1438.250000</td>\n",
       "    </tr>\n",
       "    <tr>\n",
       "      <th>50%</th>\n",
       "      <td>1980.000000</td>\n",
       "    </tr>\n",
       "    <tr>\n",
       "      <th>75%</th>\n",
       "      <td>2580.000000</td>\n",
       "    </tr>\n",
       "    <tr>\n",
       "      <th>max</th>\n",
       "      <td>7440.000000</td>\n",
       "    </tr>\n",
       "  </tbody>\n",
       "</table>\n",
       "</div>"
      ],
      "text/plain": [
       "       duration_seconds\n",
       "count       1068.000000\n",
       "mean        2071.731273\n",
       "std          769.461125\n",
       "min            0.000000\n",
       "25%         1438.250000\n",
       "50%         1980.000000\n",
       "75%         2580.000000\n",
       "max         7440.000000"
      ]
     },
     "execution_count": 31,
     "metadata": {},
     "output_type": "execute_result"
    }
   ],
   "source": [
    "trips_loop_airport.describe()"
   ]
  },
  {
   "cell_type": "code",
   "execution_count": 32,
   "metadata": {},
   "outputs": [
    {
     "data": {
      "text/plain": [
       "start_ts              0\n",
       "weather_conditions    0\n",
       "duration_seconds      0\n",
       "dtype: int64"
      ]
     },
     "execution_count": 32,
     "metadata": {},
     "output_type": "execute_result"
    }
   ],
   "source": [
    "trips_loop_airport.isnull().sum()"
   ]
  },
  {
   "cell_type": "code",
   "execution_count": 33,
   "metadata": {},
   "outputs": [],
   "source": [
    "trips_correct = trips_loop_airport.drop_duplicates()"
   ]
  },
  {
   "cell_type": "code",
   "execution_count": 34,
   "metadata": {},
   "outputs": [
    {
     "data": {
      "text/plain": [
       "0"
      ]
     },
     "execution_count": 34,
     "metadata": {},
     "output_type": "execute_result"
    }
   ],
   "source": [
    "trips_correct.duplicated().sum()"
   ]
  },
  {
   "cell_type": "code",
   "execution_count": 35,
   "metadata": {},
   "outputs": [
    {
     "data": {
      "text/html": [
       "<div>\n",
       "<style scoped>\n",
       "    .dataframe tbody tr th:only-of-type {\n",
       "        vertical-align: middle;\n",
       "    }\n",
       "\n",
       "    .dataframe tbody tr th {\n",
       "        vertical-align: top;\n",
       "    }\n",
       "\n",
       "    .dataframe thead th {\n",
       "        text-align: right;\n",
       "    }\n",
       "</style>\n",
       "<table border=\"1\" class=\"dataframe\">\n",
       "  <thead>\n",
       "    <tr style=\"text-align: right;\">\n",
       "      <th></th>\n",
       "      <th>start_ts</th>\n",
       "      <th>weather_conditions</th>\n",
       "      <th>duration_seconds</th>\n",
       "    </tr>\n",
       "  </thead>\n",
       "  <tbody>\n",
       "    <tr>\n",
       "      <th>0</th>\n",
       "      <td>2017-11-25 16:00:00</td>\n",
       "      <td>Good</td>\n",
       "      <td>2410.0</td>\n",
       "    </tr>\n",
       "    <tr>\n",
       "      <th>1</th>\n",
       "      <td>2017-11-25 14:00:00</td>\n",
       "      <td>Good</td>\n",
       "      <td>1920.0</td>\n",
       "    </tr>\n",
       "    <tr>\n",
       "      <th>2</th>\n",
       "      <td>2017-11-25 12:00:00</td>\n",
       "      <td>Good</td>\n",
       "      <td>1543.0</td>\n",
       "    </tr>\n",
       "    <tr>\n",
       "      <th>3</th>\n",
       "      <td>2017-11-04 10:00:00</td>\n",
       "      <td>Good</td>\n",
       "      <td>2512.0</td>\n",
       "    </tr>\n",
       "    <tr>\n",
       "      <th>4</th>\n",
       "      <td>2017-11-11 07:00:00</td>\n",
       "      <td>Good</td>\n",
       "      <td>1440.0</td>\n",
       "    </tr>\n",
       "  </tbody>\n",
       "</table>\n",
       "</div>"
      ],
      "text/plain": [
       "              start_ts weather_conditions  duration_seconds\n",
       "0  2017-11-25 16:00:00               Good            2410.0\n",
       "1  2017-11-25 14:00:00               Good            1920.0\n",
       "2  2017-11-25 12:00:00               Good            1543.0\n",
       "3  2017-11-04 10:00:00               Good            2512.0\n",
       "4  2017-11-11 07:00:00               Good            1440.0"
      ]
     },
     "execution_count": 35,
     "metadata": {},
     "output_type": "execute_result"
    }
   ],
   "source": [
    "trips_correct.head()"
   ]
  },
  {
   "cell_type": "markdown",
   "metadata": {},
   "source": [
    "Tras revisar la información previa encontramos que el df tenia filas duplicadas por lo que se procedió a eliminarlas, esto debido a que pudiera ser que las condiciones climaticas sean identicas en algunas filas e incluso la duración del viaje. Unicamente podria ser si existieran 2 vuelos que salgan exactamente a la misma hora y que duren exactamente lo mismo, algo que es poco probable"
   ]
  },
  {
   "cell_type": "markdown",
   "metadata": {},
   "source": [
    "### Planteamiento de las Hipótesis\n",
    "El problema con la tabla anterior plantea descubrir la siguiente hipótesis: \n",
    "- \"La duración promedio de los viajes desde el Loop hasta el Aeropuerto Internacional O'Hare cambia los sábados lluviosos\".\n",
    "\n",
    "Por lo que se plantearon dos hipótesis\n",
    "- **Hipótesis Nula (H₀):** La duración promedio de los viajes desde el Loop hasta el Aeropuerto Internacional O'Hare no cambia los sábados lluviosos. Es decir, la duración promedio de los viajes en sábados lluviosos es igual a la duración promedio de los viajes en otros días.\n",
    "- **Hipótesis Alternativa (H₁):** La duración promedio de los viajes desde el Loop hasta el Aeropuerto Internacional O'Hare cambia los sábados lluviosos. Es decir, la duración promedio de los viajes en sábados lluviosos es diferente de la duración promedio de los viajes en otros días."
   ]
  },
  {
   "cell_type": "code",
   "execution_count": 36,
   "metadata": {},
   "outputs": [
    {
     "data": {
      "text/plain": [
       "0.9806770360671218"
      ]
     },
     "execution_count": 36,
     "metadata": {},
     "output_type": "execute_result"
    }
   ],
   "source": [
    "statistic, p_value = levene(\n",
    "    trips_correct.query(\"weather_conditions == 'Bad'\")['duration_seconds'],\n",
    "    trips_correct.query(\"weather_conditions == 'Good'\")['duration_seconds']\n",
    ")\n",
    "\n",
    "p_value\n",
    "#Usamos la prueba de Levene para determinar que valor utilizamos en la siguiente prueba"
   ]
  },
  {
   "cell_type": "code",
   "execution_count": 37,
   "metadata": {},
   "outputs": [
    {
     "name": "stdout",
     "output_type": "stream",
     "text": [
      "Hipótesis: La duración promedio de los viajes desde el Loop hasta el Aeropuerto Internacional O'Hare cambia los sábados lluviosos.\n",
      "T-Statistic: 5.427957689754561, P-Value: 7.397770692813658e-08\n",
      "Rechazamos la hipótesis nula y concluimos que la duración promedio de los viajes desde el Loop hasta el Aeropuerto Internacional O'Hare cambia los sábados lluviosos.\n"
     ]
    }
   ],
   "source": [
    "statistic, p_value = ttest_ind(\n",
    "    trips_correct.query(\"weather_conditions == 'Bad'\")['duration_seconds'],\n",
    "    trips_correct.query(\"weather_conditions == 'Good'\")['duration_seconds'],\n",
    "    equal_var=True\n",
    ")\n",
    "\n",
    "# Establecimiento del umbral alfa\n",
    "alpha = 0.05\n",
    "\n",
    "# Resultados\n",
    "print(\"Hipótesis: La duración promedio de los viajes desde el Loop hasta el Aeropuerto Internacional O'Hare cambia los sábados lluviosos.\")\n",
    "print(f\"T-Statistic: {statistic}, P-Value: {p_value}\")\n",
    "\n",
    "if p_value < alpha:\n",
    "    print(\"Rechazamos la hipótesis nula y concluimos que la duración promedio de los viajes desde el Loop hasta el Aeropuerto Internacional O'Hare cambia los sábados lluviosos.\")\n",
    "else:\n",
    "    print(\"No rechazaremos la hipótesis nula.\")"
   ]
  },
  {
   "cell_type": "markdown",
   "metadata": {},
   "source": [
    "### Conclusiones de la prueba de hipótesis\n",
    "Primeramente se realizó una prueba de levene con el objetivo de **Verificar la homogeneidad de varianzas**, lo que realiza esta prueba es lo siguiente: La prueba de Levene evalúa si las varianzas de las duraciones de los viajes en condiciones meteorológicas \"Bad\" y \"Good\" son iguales. Si las varianzas son significativamente diferentes, esto puede afectar la validez de otras pruebas estadísticas que asumen varianzas iguales, por ejemplo, la prueba t de Student. El resultado de la prueba de levene fue de aproximadamente 0.9807 lo que indica que no hay evidencia suficiente para rechazar la hipótesis nula de igualdad de varianzas.\n",
    "\n",
    "Esto lo utilizamos en la prueba de t de Student que es una prueba estadística que se utiliza para determinar si hay una diferencia significativa entre las medias de dos grupos. Para esta prueba se coloca el valor de equal_var = True. Esto con la finalidad de rechazar o no la hipotesis nula que se habia planteado en una principio:\n",
    "- \"La duración promedio de los viajes desde el Loop hasta el Aeropuerto Internacional O'Hare cambia los sábados lluviosos\".\n",
    "\n",
    "Dando como resultado que: \n",
    "- Rechazamos la hipótesis nula y concluimos que la duración promedio de los viajes desde el Loop hasta el Aeropuerto Internacional O'Hare cambia los sábados lluviosos."
   ]
  },
  {
   "cell_type": "markdown",
   "metadata": {},
   "source": [
    "## Conclusiones Generales\n",
    "Se realizó el analisis exploratorio de datos para las 3 tablas que se presentaron donde se usaron librerias como pandas, scipy.stats, matplot, donde se les aplicaron los metodos de python como info(), describe(), dtypes, duplicated para las 3 tablas. En la tabla de trips_loop_airport se observó que habia filas duplicadas por lo que se uso el método de drop_duplicates para eliminar las filas duplicadas. En las primeras 2 tablas se mostraron las graficas de barras correspondientes que otrorgan los datos sufucientes para analizarlas. Por último se realizaron 2 pruebas estadisticas para la tabla de trips_loop_airport, donde se rechazó la hipótesis nula conluyendo que que la duración promedio de los viajes desde el Loop hasta el Aeropuerto Internacional O'Hare cambia los sábados lluviosos."
   ]
  }
 ],
 "metadata": {
  "ExecuteTimeLog": [
   {
    "duration": 14,
    "start_time": "2024-07-16T20:35:39.142Z"
   },
   {
    "duration": 6380,
    "start_time": "2024-07-16T20:41:01.678Z"
   },
   {
    "duration": 13,
    "start_time": "2024-07-16T21:15:54.540Z"
   },
   {
    "duration": 13,
    "start_time": "2024-07-16T21:33:01.841Z"
   },
   {
    "duration": 7,
    "start_time": "2024-07-16T21:35:22.165Z"
   },
   {
    "duration": 6,
    "start_time": "2024-07-16T21:36:55.207Z"
   },
   {
    "duration": 14,
    "start_time": "2024-07-16T21:36:58.794Z"
   },
   {
    "duration": 6,
    "start_time": "2024-07-16T21:38:42.118Z"
   },
   {
    "duration": 7,
    "start_time": "2024-07-16T21:41:35.799Z"
   },
   {
    "duration": 9,
    "start_time": "2024-07-16T21:46:40.253Z"
   },
   {
    "duration": 15,
    "start_time": "2024-07-16T21:47:17.580Z"
   },
   {
    "duration": 12,
    "start_time": "2024-07-16T21:48:25.220Z"
   },
   {
    "duration": 401,
    "start_time": "2024-07-16T21:48:30.758Z"
   },
   {
    "duration": 11,
    "start_time": "2024-07-16T21:49:15.874Z"
   },
   {
    "duration": 44,
    "start_time": "2024-07-16T22:05:50.010Z"
   },
   {
    "duration": 317,
    "start_time": "2024-07-16T22:58:12.202Z"
   },
   {
    "duration": 4916,
    "start_time": "2024-07-16T22:58:19.880Z"
   },
   {
    "duration": 12,
    "start_time": "2024-07-16T22:58:24.800Z"
   },
   {
    "duration": 23,
    "start_time": "2024-07-16T22:58:24.815Z"
   },
   {
    "duration": 14,
    "start_time": "2024-07-16T22:58:24.841Z"
   },
   {
    "duration": 10,
    "start_time": "2024-07-16T22:58:24.859Z"
   },
   {
    "duration": 7,
    "start_time": "2024-07-16T22:58:24.872Z"
   },
   {
    "duration": 7,
    "start_time": "2024-07-16T22:58:24.883Z"
   },
   {
    "duration": 11,
    "start_time": "2024-07-16T22:58:24.933Z"
   },
   {
    "duration": 9,
    "start_time": "2024-07-16T22:58:45.374Z"
   },
   {
    "duration": 9,
    "start_time": "2024-07-16T22:59:08.741Z"
   },
   {
    "duration": 14,
    "start_time": "2024-07-16T22:59:30.278Z"
   },
   {
    "duration": 13,
    "start_time": "2024-07-16T22:59:37.543Z"
   },
   {
    "duration": 400,
    "start_time": "2024-07-16T23:01:54.719Z"
   },
   {
    "duration": 4,
    "start_time": "2024-07-16T23:07:30.875Z"
   },
   {
    "duration": 5,
    "start_time": "2024-07-16T23:07:35.427Z"
   },
   {
    "duration": 6,
    "start_time": "2024-07-16T23:07:47.060Z"
   },
   {
    "duration": 443,
    "start_time": "2024-07-17T16:54:42.935Z"
   },
   {
    "duration": 6466,
    "start_time": "2024-07-17T16:54:54.793Z"
   },
   {
    "duration": 23,
    "start_time": "2024-07-17T16:55:01.271Z"
   },
   {
    "duration": 16,
    "start_time": "2024-07-17T16:55:01.303Z"
   },
   {
    "duration": 18,
    "start_time": "2024-07-17T16:55:01.327Z"
   },
   {
    "duration": 11,
    "start_time": "2024-07-17T16:55:01.351Z"
   },
   {
    "duration": 8,
    "start_time": "2024-07-17T16:55:01.366Z"
   },
   {
    "duration": 7,
    "start_time": "2024-07-17T16:55:01.377Z"
   },
   {
    "duration": 49,
    "start_time": "2024-07-17T16:55:01.388Z"
   },
   {
    "duration": 15,
    "start_time": "2024-07-17T16:55:01.441Z"
   },
   {
    "duration": 10,
    "start_time": "2024-07-17T16:55:01.458Z"
   },
   {
    "duration": 2442,
    "start_time": "2024-07-17T16:55:01.471Z"
   },
   {
    "duration": 1707,
    "start_time": "2024-07-17T16:55:36.269Z"
   },
   {
    "duration": 13,
    "start_time": "2024-07-17T17:17:49.727Z"
   },
   {
    "duration": 351,
    "start_time": "2024-07-17T17:18:09.553Z"
   },
   {
    "duration": 5076,
    "start_time": "2024-07-17T18:41:17.446Z"
   },
   {
    "duration": 13,
    "start_time": "2024-07-17T18:41:22.525Z"
   },
   {
    "duration": 12,
    "start_time": "2024-07-17T18:41:22.541Z"
   },
   {
    "duration": 14,
    "start_time": "2024-07-17T18:41:22.557Z"
   },
   {
    "duration": 30,
    "start_time": "2024-07-17T18:41:22.574Z"
   },
   {
    "duration": 10,
    "start_time": "2024-07-17T18:41:22.607Z"
   },
   {
    "duration": 8,
    "start_time": "2024-07-17T18:41:22.620Z"
   },
   {
    "duration": 15,
    "start_time": "2024-07-17T18:41:22.631Z"
   },
   {
    "duration": 58,
    "start_time": "2024-07-17T18:41:22.649Z"
   },
   {
    "duration": 426,
    "start_time": "2024-07-17T18:41:22.712Z"
   },
   {
    "duration": 0,
    "start_time": "2024-07-17T18:41:23.141Z"
   },
   {
    "duration": 0,
    "start_time": "2024-07-17T18:41:23.144Z"
   },
   {
    "duration": 8,
    "start_time": "2024-07-17T18:45:48.958Z"
   },
   {
    "duration": 8,
    "start_time": "2024-07-17T18:45:49.959Z"
   },
   {
    "duration": 350,
    "start_time": "2024-07-17T18:45:50.760Z"
   },
   {
    "duration": 5316,
    "start_time": "2024-07-17T21:51:26.095Z"
   },
   {
    "duration": 14,
    "start_time": "2024-07-17T21:51:31.416Z"
   },
   {
    "duration": 11,
    "start_time": "2024-07-17T21:51:31.433Z"
   },
   {
    "duration": 35,
    "start_time": "2024-07-17T21:51:31.447Z"
   },
   {
    "duration": 13,
    "start_time": "2024-07-17T21:51:31.487Z"
   },
   {
    "duration": 10,
    "start_time": "2024-07-17T21:51:31.504Z"
   },
   {
    "duration": 8,
    "start_time": "2024-07-17T21:51:31.517Z"
   },
   {
    "duration": 16,
    "start_time": "2024-07-17T21:51:31.567Z"
   },
   {
    "duration": 18,
    "start_time": "2024-07-17T21:51:31.586Z"
   },
   {
    "duration": 11,
    "start_time": "2024-07-17T21:51:31.608Z"
   },
   {
    "duration": 49,
    "start_time": "2024-07-17T21:51:31.622Z"
   },
   {
    "duration": 395,
    "start_time": "2024-07-17T21:51:31.674Z"
   },
   {
    "duration": 7,
    "start_time": "2024-07-17T21:56:41.256Z"
   },
   {
    "duration": 8,
    "start_time": "2024-07-17T21:56:50.364Z"
   },
   {
    "duration": 1271,
    "start_time": "2024-07-17T21:57:26.128Z"
   },
   {
    "duration": 328,
    "start_time": "2024-07-17T21:57:41.548Z"
   },
   {
    "duration": 315,
    "start_time": "2024-07-17T21:59:07.993Z"
   },
   {
    "duration": 295,
    "start_time": "2024-07-17T21:59:20.898Z"
   },
   {
    "duration": 393,
    "start_time": "2024-07-17T22:51:15.013Z"
   },
   {
    "duration": 5074,
    "start_time": "2024-07-18T15:21:31.586Z"
   },
   {
    "duration": 12,
    "start_time": "2024-07-18T15:21:36.663Z"
   },
   {
    "duration": 10,
    "start_time": "2024-07-18T15:21:36.678Z"
   },
   {
    "duration": 14,
    "start_time": "2024-07-18T15:21:36.691Z"
   },
   {
    "duration": 11,
    "start_time": "2024-07-18T15:21:36.735Z"
   },
   {
    "duration": 9,
    "start_time": "2024-07-18T15:21:36.749Z"
   },
   {
    "duration": 8,
    "start_time": "2024-07-18T15:21:36.761Z"
   },
   {
    "duration": 14,
    "start_time": "2024-07-18T15:21:36.772Z"
   },
   {
    "duration": 13,
    "start_time": "2024-07-18T15:21:36.832Z"
   },
   {
    "duration": 8,
    "start_time": "2024-07-18T15:21:36.848Z"
   },
   {
    "duration": 7,
    "start_time": "2024-07-18T15:21:36.859Z"
   },
   {
    "duration": 391,
    "start_time": "2024-07-18T15:21:36.870Z"
   },
   {
    "duration": 271,
    "start_time": "2024-07-18T15:21:37.264Z"
   },
   {
    "duration": 10,
    "start_time": "2024-07-18T15:21:37.540Z"
   },
   {
    "duration": 14,
    "start_time": "2024-07-18T15:22:26.184Z"
   },
   {
    "duration": 15,
    "start_time": "2024-07-18T15:22:35.103Z"
   },
   {
    "duration": 308,
    "start_time": "2024-07-18T15:24:28.217Z"
   },
   {
    "duration": 321,
    "start_time": "2024-07-18T15:24:34.913Z"
   },
   {
    "duration": 321,
    "start_time": "2024-07-18T15:24:44.379Z"
   },
   {
    "duration": 304,
    "start_time": "2024-07-18T15:24:59.754Z"
   },
   {
    "duration": 281,
    "start_time": "2024-07-18T15:25:33.852Z"
   },
   {
    "duration": 297,
    "start_time": "2024-07-18T15:25:47.159Z"
   },
   {
    "duration": 298,
    "start_time": "2024-07-18T15:26:06.887Z"
   },
   {
    "duration": 376,
    "start_time": "2024-07-18T15:26:40.823Z"
   },
   {
    "duration": 392,
    "start_time": "2024-07-18T15:57:27.879Z"
   },
   {
    "duration": 7,
    "start_time": "2024-07-18T16:07:43.704Z"
   },
   {
    "duration": 6,
    "start_time": "2024-07-18T16:08:42.964Z"
   },
   {
    "duration": 25,
    "start_time": "2024-07-18T16:08:59.190Z"
   },
   {
    "duration": 1317,
    "start_time": "2024-07-18T16:09:13.639Z"
   },
   {
    "duration": 9,
    "start_time": "2024-07-18T16:09:14.961Z"
   },
   {
    "duration": 11,
    "start_time": "2024-07-18T16:09:14.973Z"
   },
   {
    "duration": 14,
    "start_time": "2024-07-18T16:09:14.987Z"
   },
   {
    "duration": 12,
    "start_time": "2024-07-18T16:09:15.033Z"
   },
   {
    "duration": 8,
    "start_time": "2024-07-18T16:09:15.049Z"
   },
   {
    "duration": 8,
    "start_time": "2024-07-18T16:09:15.060Z"
   },
   {
    "duration": 60,
    "start_time": "2024-07-18T16:09:15.072Z"
   },
   {
    "duration": 15,
    "start_time": "2024-07-18T16:09:15.135Z"
   },
   {
    "duration": 8,
    "start_time": "2024-07-18T16:09:15.153Z"
   },
   {
    "duration": 9,
    "start_time": "2024-07-18T16:09:15.163Z"
   },
   {
    "duration": 387,
    "start_time": "2024-07-18T16:09:15.174Z"
   },
   {
    "duration": 269,
    "start_time": "2024-07-18T16:09:15.564Z"
   },
   {
    "duration": 8,
    "start_time": "2024-07-18T16:09:15.838Z"
   },
   {
    "duration": 11,
    "start_time": "2024-07-18T16:09:15.851Z"
   },
   {
    "duration": 14,
    "start_time": "2024-07-18T16:09:15.864Z"
   },
   {
    "duration": 15,
    "start_time": "2024-07-18T16:40:47.144Z"
   },
   {
    "duration": 555,
    "start_time": "2024-07-18T16:42:27.911Z"
   },
   {
    "duration": 23,
    "start_time": "2024-07-18T16:42:53.074Z"
   },
   {
    "duration": 5,
    "start_time": "2024-07-18T16:44:05.787Z"
   },
   {
    "duration": 12,
    "start_time": "2024-07-18T16:44:10.755Z"
   },
   {
    "duration": 16,
    "start_time": "2024-07-18T16:45:24.641Z"
   },
   {
    "duration": 7,
    "start_time": "2024-07-18T16:51:46.945Z"
   },
   {
    "duration": 12,
    "start_time": "2024-07-18T16:51:52.774Z"
   },
   {
    "duration": 12,
    "start_time": "2024-07-18T16:54:04.158Z"
   },
   {
    "duration": 18,
    "start_time": "2024-07-18T22:38:19.638Z"
   },
   {
    "duration": 7,
    "start_time": "2024-07-18T22:38:27.678Z"
   },
   {
    "duration": 5365,
    "start_time": "2024-07-20T15:30:52.798Z"
   },
   {
    "duration": 20,
    "start_time": "2024-07-20T16:08:41.313Z"
   },
   {
    "duration": 16,
    "start_time": "2024-07-20T16:08:50.339Z"
   },
   {
    "duration": 7,
    "start_time": "2024-07-20T16:10:21.085Z"
   },
   {
    "duration": 8,
    "start_time": "2024-07-20T16:10:26.104Z"
   },
   {
    "duration": 10,
    "start_time": "2024-07-20T16:10:41.219Z"
   },
   {
    "duration": 8,
    "start_time": "2024-07-20T16:10:46.512Z"
   },
   {
    "duration": 7,
    "start_time": "2024-07-20T16:10:54.616Z"
   },
   {
    "duration": 7,
    "start_time": "2024-07-20T16:11:20.066Z"
   },
   {
    "duration": 13,
    "start_time": "2024-07-20T16:12:09.515Z"
   },
   {
    "duration": 7,
    "start_time": "2024-07-20T16:12:14.911Z"
   },
   {
    "duration": 8,
    "start_time": "2024-07-20T16:12:18.255Z"
   },
   {
    "duration": 8,
    "start_time": "2024-07-20T16:12:36.670Z"
   },
   {
    "duration": 16,
    "start_time": "2024-07-20T16:13:16.360Z"
   },
   {
    "duration": 17,
    "start_time": "2024-07-20T16:13:35.354Z"
   },
   {
    "duration": 5363,
    "start_time": "2024-07-20T17:42:50.898Z"
   },
   {
    "duration": 17,
    "start_time": "2024-07-20T17:42:56.266Z"
   },
   {
    "duration": 13,
    "start_time": "2024-07-20T17:42:56.286Z"
   },
   {
    "duration": 8,
    "start_time": "2024-07-20T17:42:56.308Z"
   },
   {
    "duration": 7,
    "start_time": "2024-07-20T17:42:56.321Z"
   },
   {
    "duration": 50,
    "start_time": "2024-07-20T17:42:56.331Z"
   },
   {
    "duration": 16,
    "start_time": "2024-07-20T17:42:56.385Z"
   },
   {
    "duration": 8,
    "start_time": "2024-07-20T17:42:56.408Z"
   },
   {
    "duration": 50,
    "start_time": "2024-07-20T17:42:56.419Z"
   },
   {
    "duration": 15,
    "start_time": "2024-07-20T17:42:56.473Z"
   },
   {
    "duration": 9,
    "start_time": "2024-07-20T17:42:56.491Z"
   },
   {
    "duration": 18,
    "start_time": "2024-07-20T17:42:56.504Z"
   },
   {
    "duration": 55,
    "start_time": "2024-07-20T17:42:56.525Z"
   },
   {
    "duration": 9,
    "start_time": "2024-07-20T17:42:56.586Z"
   },
   {
    "duration": 9,
    "start_time": "2024-07-20T17:42:56.600Z"
   },
   {
    "duration": 421,
    "start_time": "2024-07-20T17:42:56.612Z"
   },
   {
    "duration": 281,
    "start_time": "2024-07-20T17:42:57.037Z"
   },
   {
    "duration": 17,
    "start_time": "2024-07-20T17:42:57.322Z"
   },
   {
    "duration": 34,
    "start_time": "2024-07-20T17:42:57.343Z"
   },
   {
    "duration": 17,
    "start_time": "2024-07-20T17:42:57.381Z"
   },
   {
    "duration": 110,
    "start_time": "2024-07-20T17:42:57.402Z"
   },
   {
    "duration": 303,
    "start_time": "2024-07-22T16:36:29.467Z"
   },
   {
    "duration": 4903,
    "start_time": "2024-07-22T16:36:34.837Z"
   },
   {
    "duration": 13,
    "start_time": "2024-07-22T16:36:39.744Z"
   },
   {
    "duration": 9,
    "start_time": "2024-07-22T16:36:39.760Z"
   },
   {
    "duration": 8,
    "start_time": "2024-07-22T16:36:39.774Z"
   },
   {
    "duration": 7,
    "start_time": "2024-07-22T16:36:39.785Z"
   },
   {
    "duration": 18,
    "start_time": "2024-07-22T16:36:39.831Z"
   },
   {
    "duration": 14,
    "start_time": "2024-07-22T16:36:39.852Z"
   },
   {
    "duration": 8,
    "start_time": "2024-07-22T16:36:39.869Z"
   },
   {
    "duration": 51,
    "start_time": "2024-07-22T16:36:39.879Z"
   },
   {
    "duration": 10,
    "start_time": "2024-07-22T16:36:39.935Z"
   },
   {
    "duration": 9,
    "start_time": "2024-07-22T16:36:39.948Z"
   },
   {
    "duration": 15,
    "start_time": "2024-07-22T16:36:39.960Z"
   },
   {
    "duration": 58,
    "start_time": "2024-07-22T16:36:39.978Z"
   },
   {
    "duration": 12,
    "start_time": "2024-07-22T16:36:40.039Z"
   },
   {
    "duration": 8,
    "start_time": "2024-07-22T16:36:40.054Z"
   },
   {
    "duration": 380,
    "start_time": "2024-07-22T16:36:40.064Z"
   },
   {
    "duration": 265,
    "start_time": "2024-07-22T16:36:40.447Z"
   },
   {
    "duration": 24,
    "start_time": "2024-07-22T16:36:40.715Z"
   },
   {
    "duration": 15,
    "start_time": "2024-07-22T16:36:40.742Z"
   },
   {
    "duration": 11,
    "start_time": "2024-07-22T16:36:40.760Z"
   },
   {
    "duration": 55,
    "start_time": "2024-07-22T16:36:40.775Z"
   },
   {
    "duration": 13,
    "start_time": "2024-07-22T16:36:40.835Z"
   },
   {
    "duration": 192,
    "start_time": "2024-07-22T16:38:46.082Z"
   },
   {
    "duration": 7,
    "start_time": "2024-07-22T16:39:12.310Z"
   },
   {
    "duration": 7,
    "start_time": "2024-07-22T16:43:04.166Z"
   },
   {
    "duration": 10,
    "start_time": "2024-07-22T16:47:59.908Z"
   },
   {
    "duration": 8,
    "start_time": "2024-07-22T16:54:32.691Z"
   },
   {
    "duration": 11,
    "start_time": "2024-07-22T16:55:40.916Z"
   },
   {
    "duration": 10,
    "start_time": "2024-07-22T16:56:19.186Z"
   },
   {
    "duration": 7,
    "start_time": "2024-07-22T17:06:09.689Z"
   },
   {
    "duration": 10,
    "start_time": "2024-07-22T17:13:32.304Z"
   },
   {
    "duration": 19,
    "start_time": "2024-07-22T17:14:51.114Z"
   },
   {
    "duration": 9,
    "start_time": "2024-07-22T17:15:33.590Z"
   },
   {
    "duration": 703,
    "start_time": "2024-07-22T17:16:38.747Z"
   },
   {
    "duration": 10,
    "start_time": "2024-07-22T17:16:46.844Z"
   },
   {
    "duration": 7,
    "start_time": "2024-07-22T17:18:17.813Z"
   },
   {
    "duration": 12,
    "start_time": "2024-07-22T17:18:36.799Z"
   },
   {
    "duration": 7,
    "start_time": "2024-07-22T17:19:41.077Z"
   },
   {
    "duration": 13,
    "start_time": "2024-07-22T17:19:47.256Z"
   },
   {
    "duration": 21,
    "start_time": "2024-07-22T17:22:59.133Z"
   },
   {
    "duration": 20,
    "start_time": "2024-07-22T17:23:33.452Z"
   },
   {
    "duration": 16,
    "start_time": "2024-07-22T17:24:10.783Z"
   },
   {
    "duration": 9,
    "start_time": "2024-07-22T17:25:00.231Z"
   },
   {
    "duration": 9,
    "start_time": "2024-07-22T17:25:38.850Z"
   },
   {
    "duration": 10,
    "start_time": "2024-07-22T17:26:18.446Z"
   },
   {
    "duration": 21,
    "start_time": "2024-07-22T17:28:17.162Z"
   },
   {
    "duration": 20,
    "start_time": "2024-07-22T17:28:47.304Z"
   },
   {
    "duration": 17,
    "start_time": "2024-07-22T17:28:55.886Z"
   },
   {
    "duration": 17,
    "start_time": "2024-07-22T17:29:33.067Z"
   },
   {
    "duration": 11,
    "start_time": "2024-07-22T17:30:08.165Z"
   },
   {
    "duration": 12,
    "start_time": "2024-07-22T17:30:15.411Z"
   },
   {
    "duration": 18,
    "start_time": "2024-07-22T17:30:37.139Z"
   },
   {
    "duration": 13,
    "start_time": "2024-07-22T17:30:48.942Z"
   },
   {
    "duration": 13,
    "start_time": "2024-07-22T17:31:14.642Z"
   },
   {
    "duration": 10,
    "start_time": "2024-07-22T17:31:41.324Z"
   },
   {
    "duration": 8,
    "start_time": "2024-07-22T17:31:45.647Z"
   },
   {
    "duration": 16,
    "start_time": "2024-07-22T17:31:55.023Z"
   },
   {
    "duration": 8,
    "start_time": "2024-07-22T17:31:56.095Z"
   },
   {
    "duration": 10,
    "start_time": "2024-07-22T17:32:09.070Z"
   },
   {
    "duration": 8,
    "start_time": "2024-07-22T17:32:59.031Z"
   },
   {
    "duration": 10,
    "start_time": "2024-07-22T17:33:08.210Z"
   },
   {
    "duration": 11,
    "start_time": "2024-07-22T17:33:14.261Z"
   },
   {
    "duration": 11,
    "start_time": "2024-07-22T17:33:24.388Z"
   },
   {
    "duration": 12,
    "start_time": "2024-07-22T17:40:38.650Z"
   },
   {
    "duration": 12,
    "start_time": "2024-07-22T17:40:57.353Z"
   },
   {
    "duration": 13,
    "start_time": "2024-07-22T17:41:08.429Z"
   },
   {
    "duration": 12,
    "start_time": "2024-07-22T17:41:20.024Z"
   }
  ],
  "kernelspec": {
   "display_name": "base",
   "language": "python",
   "name": "python3"
  },
  "language_info": {
   "codemirror_mode": {
    "name": "ipython",
    "version": 3
   },
   "file_extension": ".py",
   "mimetype": "text/x-python",
   "name": "python",
   "nbconvert_exporter": "python",
   "pygments_lexer": "ipython3",
   "version": "3.11.7"
  },
  "toc": {
   "base_numbering": 1,
   "nav_menu": {},
   "number_sections": true,
   "sideBar": true,
   "skip_h1_title": true,
   "title_cell": "Table of Contents",
   "title_sidebar": "Contents",
   "toc_cell": false,
   "toc_position": {},
   "toc_section_display": true,
   "toc_window_display": false
  }
 },
 "nbformat": 4,
 "nbformat_minor": 4
}
